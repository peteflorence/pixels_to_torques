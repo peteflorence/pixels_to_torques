{
 "cells": [
  {
   "cell_type": "code",
   "execution_count": 1,
   "metadata": {
    "collapsed": false,
    "deletable": true,
    "editable": true
   },
   "outputs": [
    {
     "name": "stdout",
     "output_type": "stream",
     "text": [
      "x is Variable containing:\n",
      " 2\n",
      "[torch.FloatTensor of size 1]\n",
      "\n",
      "x grad is None\n",
      "\n",
      "y is Variable containing:\n",
      " 4\n",
      "[torch.FloatTensor of size 1]\n",
      "\n",
      "\n",
      "x is Variable containing:\n",
      " 2\n",
      "[torch.FloatTensor of size 1]\n",
      "\n",
      "x grad is Variable containing:\n",
      " 4\n",
      "[torch.FloatTensor of size 1]\n",
      "\n",
      "\n"
     ]
    }
   ],
   "source": [
    "import torch\n",
    "from torch.autograd import Variable\n",
    "\n",
    "x = Variable(torch.FloatTensor([2]), requires_grad=True)\n",
    "print \"x is\", x\n",
    "print \"x grad is\", x.grad\n",
    "print \"\"\n",
    "\n",
    "y = x.pow(2)\n",
    "print \"y is\", y\n",
    "print \"\"\n",
    "\n",
    "y.backward()\n",
    "print \"x is\", x\n",
    "print \"x grad is\", x.grad\n",
    "print \"\""
   ]
  },
  {
   "cell_type": "markdown",
   "metadata": {},
   "source": [
    "## 2-d system, auto-diff $\\frac{dV}{dx}$"
   ]
  },
  {
   "cell_type": "code",
   "execution_count": 6,
   "metadata": {
    "collapsed": false
   },
   "outputs": [
    {
     "name": "stdout",
     "output_type": "stream",
     "text": [
      "Variable containing:\n",
      " 2\n",
      " 3\n",
      "[torch.FloatTensor of size 2]\n",
      "\n",
      "Variable containing:\n",
      " 4\n",
      " 9\n",
      "[torch.FloatTensor of size 2]\n",
      "\n",
      "\n",
      " 4\n",
      " 6\n",
      "[torch.FloatTensor of size 2]\n",
      "\n"
     ]
    }
   ],
   "source": [
    "# template for V\n",
    "\n",
    "def V(x):\n",
    "    '''\n",
    "    V(x) computes the Lyapnuov function V for input x\n",
    "    --> x should be a Variable wrapping a torch.FloatTensor\n",
    "    --> returns V, also a Variable wrapping a torch.FloatTensor\n",
    "    ''' \n",
    "    return x.pow(2)\n",
    "\n",
    "x = Variable(torch.FloatTensor([2,3]), requires_grad=True)\n",
    "print x\n",
    "\n",
    "V = V(x)\n",
    "print V\n",
    "V.backward(torch.FloatTensor([1.0]))\n",
    "\n",
    "print x.grad.data"
   ]
  },
  {
   "cell_type": "code",
   "execution_count": 48,
   "metadata": {
    "collapsed": false
   },
   "outputs": [
    {
     "name": "stdout",
     "output_type": "stream",
     "text": [
      "Variable containing:\n",
      " 1\n",
      " 2\n",
      " 3\n",
      "[torch.FloatTensor of size 3]\n",
      "\n",
      "Variable containing:\n",
      " 1\n",
      " 4\n",
      " 9\n",
      "[torch.FloatTensor of size 3]\n",
      "\n",
      "\n",
      "-0.2696\n",
      "-4.3690\n",
      "-2.8456\n",
      "[torch.FloatTensor of size 3]\n",
      "\n",
      "\n",
      "-0.1348\n",
      "-1.0923\n",
      "-0.4743\n",
      "[torch.FloatTensor of size 3]\n",
      "\n"
     ]
    }
   ],
   "source": [
    "x = Variable(torch.FloatTensor([1, 2, 3]), requires_grad=True)\n",
    "y = x ** 2\n",
    "grad = torch.randn(3)\n",
    "torch.autograd.backward([y], [grad])\n",
    "\n",
    "print x\n",
    "print y\n",
    "print x.grad.data\n",
    "print grad"
   ]
  },
  {
   "cell_type": "code",
   "execution_count": 42,
   "metadata": {
    "collapsed": false
   },
   "outputs": [
    {
     "name": "stdout",
     "output_type": "stream",
     "text": [
      "Variable containing:\n",
      " 10   5\n",
      "[torch.FloatTensor of size 1x2]\n",
      "\n",
      "Variable containing:\n",
      " 1  2\n",
      " 3  4\n",
      "[torch.FloatTensor of size 2x2]\n",
      "\n",
      "Variable containing:\n",
      " 25  40\n",
      "[torch.FloatTensor of size 1x2]\n",
      "\n",
      "\n",
      " 0  0\n",
      " 0  0\n",
      "[torch.FloatTensor of size 2x2]\n",
      "\n",
      "Variable containing:\n",
      " 1  2\n",
      " 3  4\n",
      "[torch.FloatTensor of size 2x2]\n",
      "\n",
      "\n",
      " 1  2\n",
      " 3  4\n",
      "[torch.FloatTensor of size 2x2]\n",
      "\n"
     ]
    }
   ],
   "source": [
    "x = Variable(torch.FloatTensor([[10,5]]), requires_grad=True)\n",
    "print x\n",
    "\n",
    "M = Variable(torch.FloatTensor([[1,2],[3,4]]))\n",
    "print M\n",
    "\n",
    "y = torch.mm(x, M)\n",
    "print y\n",
    "\n",
    "jacobian = torch.FloatTensor(2, 2).zero_()\n",
    "print jacobian\n",
    "\n",
    "y.backward(torch.FloatTensor([[1, 0]]), retain_variables=True)\n",
    "jacobian[:,0] = x.grad.data\n",
    "x.grad.data.zero_()\n",
    "y.backward(torch.FloatTensor([[0, 1]]), retain_variables=True)\n",
    "jacobian[:,1] = x.grad.data\n",
    "\n",
    "\n",
    "print M\n",
    "print jacobian"
   ]
  },
  {
   "cell_type": "code",
   "execution_count": 46,
   "metadata": {
    "collapsed": false
   },
   "outputs": [
    {
     "name": "stdout",
     "output_type": "stream",
     "text": [
      "\n",
      " 2  0  0  3\n",
      "[torch.FloatTensor of size 1x4]\n",
      "\n",
      "\n",
      " 0  2  0  3\n",
      "[torch.FloatTensor of size 1x4]\n",
      "\n",
      "\n",
      "  2   2   2  14\n",
      "[torch.FloatTensor of size 1x4]\n",
      "\n",
      "\n",
      "  2   2   2  14\n",
      "[torch.FloatTensor of size 1x4]\n",
      "\n"
     ]
    }
   ],
   "source": [
    "# https://stackoverflow.com/questions/43451125/pytorch-what-are-the-gradient-arguments/47026836#47026836\n",
    "\n",
    "from torch.autograd import Variable\n",
    "import torch\n",
    "x = Variable(torch.FloatTensor([[1, 2, 3, 4]]), requires_grad=True)\n",
    "z = 2*x + 3*x[0,3]\n",
    "loss = z.sum(dim=1)\n",
    "\n",
    "# do backward for first element of z\n",
    "z.backward(torch.FloatTensor([[1, 0, 0, 0]]))\n",
    "print(x.grad.data)\n",
    "x.grad.data.zero_() #remove gradient in x.grad, or it will be accumulated\n",
    "\n",
    "# do backward for second element of z\n",
    "z.backward(torch.FloatTensor([[0, 1, 0, 0]]))\n",
    "print(x.grad.data)\n",
    "x.grad.data.zero_()\n",
    "\n",
    "# do backward for all elements of z, with weight equal to the derivative of\n",
    "# loss w.r.t z_1, z_2, z_3 and z_4\n",
    "z.backward(torch.FloatTensor([[1, 1, 1, 1]]))\n",
    "print(x.grad.data)\n",
    "x.grad.data.zero_()\n",
    "\n",
    "# or we can directly backprop using loss\n",
    "loss.backward() # equivalent to loss.backward(torch.FloatTensor([1.0]))\n",
    "print(x.grad.data)    "
   ]
  },
  {
   "cell_type": "code",
   "execution_count": 52,
   "metadata": {
    "collapsed": false
   },
   "outputs": [
    {
     "name": "stdout",
     "output_type": "stream",
     "text": [
      "\n",
      "   6   36  114  264\n",
      "[torch.FloatTensor of size 1x4]\n",
      "\n"
     ]
    }
   ],
   "source": [
    "from torch.autograd import Variable\n",
    "import torch\n",
    "x = Variable(torch.FloatTensor([[1, 2, 3, 4]]), requires_grad=True)\n",
    "V = x**2 + x**4\n",
    "\n",
    "V.backward(torch.FloatTensor([1.0]))\n",
    "print x.grad.data\n",
    "\n",
    "## THIS WORKS AS PLANNED!"
   ]
  }
 ],
 "metadata": {
  "kernelspec": {
   "display_name": "Python 2",
   "language": "python",
   "name": "python2"
  },
  "language_info": {
   "codemirror_mode": {
    "name": "ipython",
    "version": 2
   },
   "file_extension": ".py",
   "mimetype": "text/x-python",
   "name": "python",
   "nbconvert_exporter": "python",
   "pygments_lexer": "ipython2",
   "version": "2.7.6"
  }
 },
 "nbformat": 4,
 "nbformat_minor": 2
}
