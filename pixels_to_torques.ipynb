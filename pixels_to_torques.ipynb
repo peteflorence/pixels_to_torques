{
 "cells": [
  {
   "cell_type": "code",
   "execution_count": 9,
   "metadata": {},
   "outputs": [],
   "source": [
    "import torch"
   ]
  },
  {
   "cell_type": "markdown",
   "metadata": {},
   "source": [
    "## Render our simple world with no pendulum (it's empty)\n"
   ]
  },
  {
   "cell_type": "code",
   "execution_count": 10,
   "metadata": {},
   "outputs": [
    {
     "data": {
      "image/png": "[encoded data removed]",
      "text/plain": [
       "<matplotlib.figure.Figure at 0x7faf1c895390>"
      ]
     },
     "metadata": {},
     "output_type": "display_data"
    }
   ],
   "source": [
    "img = torch.zeros((100,100))\n",
    "\n",
    "%matplotlib inline\n",
    "import matplotlib.pyplot as plt\n",
    "plt.imshow(img, cmap=plt.get_cmap('gray_r'))\n",
    "plt.show()"
   ]
  },
  {
   "cell_type": "markdown",
   "metadata": {},
   "source": [
    "## Get a state of the pendulum\n",
    "\n",
    "<p align=\"center\">\n",
    "  <img src=\"simple_pend.svg\" width=\"250\"/>\n",
    "</p>"
   ]
  },
  {
   "cell_type": "code",
   "execution_count": 11,
   "metadata": {},
   "outputs": [
    {
     "name": "stdout",
     "output_type": "stream",
     "text": [
      "\n",
      " 1\n",
      " 0\n",
      "[torch.FloatTensor of size 2]\n",
      "\n"
     ]
    }
   ],
   "source": [
    "## parameters\n",
    "\n",
    "l = 30.0   # length in pixels\n",
    "g = 9.8    # gravity in m/s**2\n",
    "\n",
    "## state\n",
    "\n",
    "theta    = 1.0 # angle from down\n",
    "thetadot = 0 # \n",
    "\n",
    "state = torch.FloatTensor([theta, thetadot])\n",
    "print state"
   ]
  },
  {
   "cell_type": "markdown",
   "metadata": {},
   "source": [
    "## Convert state of pendulum to line segment"
   ]
  },
  {
   "cell_type": "code",
   "execution_count": 12,
   "metadata": {},
   "outputs": [],
   "source": [
    "base = torch.FloatTensor([0,0])  # in world coordinates\n",
    "\n",
    "def convert_world_to_img_coordinates(world_coordinates):\n",
    "    return world_coordinates + 50\n",
    "\n",
    "\n",
    "base_in_img = convert_world_to_img_coordinates(base)\n",
    "\n",
    "\n",
    "length_x = l * torch.cos(state[0:1])\n",
    "length_y = l * torch.sin(state[0:1])\n",
    "\n",
    "length = torch.cat((length_x, length_y))\n",
    "\n",
    "end = base + length\n",
    "end_in_img = convert_world_to_img_coordinates(end)"
   ]
  },
  {
   "cell_type": "markdown",
   "metadata": {},
   "source": [
    "## Find all pixels close enough to line segment\n"
   ]
  },
  {
   "cell_type": "code",
   "execution_count": 13,
   "metadata": {},
   "outputs": [],
   "source": [
    "import numpy as np\n",
    "pi = np.pi"
   ]
  },
  {
   "cell_type": "code",
   "execution_count": 14,
   "metadata": {},
   "outputs": [],
   "source": [
    "def torch_flip(two_element_tensor):\n",
    "    return torch.FloatTensor([two_element_tensor[1],two_element_tensor[0]])\n",
    "    \n",
    "def torch_det(A,B):\n",
    "    return A[0]*B[1] - A[1]*B[0]\n",
    "\n",
    "\n",
    "def distance_pytorch(A, B, P):\n",
    "    if (A == B).all() or (B == P).all():\n",
    "        return 0\n",
    "    if (torch.acos(torch.FloatTensor([torch.dot((P - A) / (P - A).norm(), \n",
    "                                                (B - A) / (B - A).norm())])) > pi/2).all():\n",
    "        return (P - A).norm()\n",
    "    \n",
    "    if (torch.acos(torch.FloatTensor([torch.dot((P - B) / (P - B).norm(), \n",
    "                                                (A - B) / (A - B).norm())])) > pi/2).all():\n",
    "        return (P - B).norm()\n",
    "    \n",
    "    return abs(torch_det(A-B, A-P))/(B-A).norm()"
   ]
  },
  {
   "cell_type": "code",
   "execution_count": 15,
   "metadata": {},
   "outputs": [
    {
     "name": "stdout",
     "output_type": "stream",
     "text": [
      "\n",
      " 50\n",
      " 50\n",
      "[torch.FloatTensor of size 2]\n",
      "\n",
      "\n",
      " 66.2091\n",
      " 75.2441\n",
      "[torch.FloatTensor of size 2]\n",
      "\n"
     ]
    },
    {
     "data": {
      "image/png": "[encoded data removed]",
      "text/plain": [
       "<matplotlib.figure.Figure at 0x7faf1c8f7710>"
      ]
     },
     "metadata": {},
     "output_type": "display_data"
    }
   ],
   "source": [
    "print base_in_img\n",
    "print end_in_img\n",
    "\n",
    "img = torch.zeros((100,100))\n",
    "\n",
    "for i, row in enumerate(img):\n",
    "    for j, val in enumerate(row):\n",
    "        this_img_coord = torch.FloatTensor([i,j])\n",
    "        img[i,j] = distance_pytorch(base_in_img, end_in_img, this_img_coord)\n",
    "\n",
    "plt.imshow(img, cmap=plt.get_cmap('gray_r'))\n",
    "plt.show()"
   ]
  },
  {
   "cell_type": "markdown",
   "metadata": {},
   "source": [
    "## Render pendulum"
   ]
  },
  {
   "cell_type": "code",
   "execution_count": 16,
   "metadata": {},
   "outputs": [
    {
     "data": {
      "image/png": "[encoded data removed]",
      "text/plain": [
       "<matplotlib.figure.Figure at 0x7faf1c816b10>"
      ]
     },
     "metadata": {},
     "output_type": "display_data"
    }
   ],
   "source": [
    "img = torch.zeros((100,100))\n",
    "\n",
    "for i, row in enumerate(img):\n",
    "    for j, val in enumerate(row):\n",
    "        this_img_coord = torch.FloatTensor([i,j])\n",
    "        dist = distance_pytorch(base_in_img, end_in_img, this_img_coord)\n",
    "        if dist < 5.0:\n",
    "            img[i,j] = 5 - dist\n",
    "\n",
    "plt.imshow(img, cmap=plt.get_cmap('gray_r'))\n",
    "plt.show()\n"
   ]
  },
  {
   "cell_type": "markdown",
   "metadata": {},
   "source": [
    "## Get states of pendulum over time"
   ]
  },
  {
   "cell_type": "code",
   "execution_count": 39,
   "metadata": {},
   "outputs": [
    {
     "name": "stdout",
     "output_type": "stream",
     "text": [
      "\n",
      " 1\n",
      " 0\n",
      "[torch.FloatTensor of size 2]\n",
      "\n",
      "\n",
      " 1.0000\n",
      "-1.5885\n",
      "[torch.FloatTensor of size 2]\n",
      "\n",
      "\n",
      " 1.0000\n",
      "-1.5885\n",
      "[torch.FloatTensor of size 2]\n",
      "\n",
      "\n",
      " 0.9841\n",
      "-3.1770\n",
      "[torch.FloatTensor of size 2]\n",
      "\n"
     ]
    }
   ],
   "source": [
    "## parameters\n",
    "\n",
    "l = 30.0   # length in pixels\n",
    "g = 9.8    # gravity in m/s**2\n",
    "m = 1.0    # mass in kg\n",
    "\n",
    "## state\n",
    "\n",
    "theta    = 1.0 # angle from down\n",
    "thetadot = 0 # \n",
    "\n",
    "state = torch.FloatTensor([theta, thetadot])\n",
    "\n",
    "def pendulum_next_state(state, u):\n",
    "    deriv = torch.zeros(2)\n",
    "    deriv[0] = state[1]\n",
    "    deriv[1] = float(-(m * g * l * torch.cos(state[0:1])))\n",
    "    dt = .01\n",
    "    next_state = state + deriv*dt\n",
    "    return next_state\n",
    "\n",
    "print state\n",
    "print pendulum_next_state(state,0)\n",
    "print pendulum_next_state(state,0)\n",
    "print pendulum_next_state(pendulum_next_state(state,0),0)\n",
    "\n",
    "state_tape = []\n",
    "state_tape.append(state)\n",
    "\n",
    "#for i in range(100):\n",
    "    \n"
   ]
  },
  {
   "cell_type": "code",
   "execution_count": 19,
   "metadata": {},
   "outputs": [],
   "source": [
    "import numpy as np\n",
    "import matplotlib.pyplot as plt \n",
    "from scipy.integrate import odeint\n",
    "import glob\n",
    "import os\n",
    "\n",
    "def simple_pendulum_deriv(x, t, m, g, l): \n",
    "    \"\"\"The simple pendulum subject to zero damping and zero control input\n",
    "    Based on material from the MIT OCW subject \"Underactuated Robotics\"\n",
    "    \"lecture 2: the simple pendulum\" given by Russell Tedrake, the \n",
    "    maths and some of the related diagrams are given at about 51 minutes\n",
    "    in.\n",
    "    \"\"\"\n",
    "    nx = np.zeros(2)\n",
    "    nx[0] = x[1]\n",
    "    nx[1] = -(m * g * l * np.sin(x[0])) \n",
    "    return nx\n",
    "\n",
    "def plot_orbit( x0 ):\n",
    "    \"\"\"Plot the phase space of the pendulum\n",
    "    \"\"\"\n",
    "    # Pick ts to be sufficiently large (by inspection) to make sure\n",
    "    # that all of the cases of interest will have reached their \n",
    "    # homoclinic orbit\n",
    "    ts = np.linspace(0.0, 50.0, 1001)\n",
    "    ys = odeint(simple_pendulum_deriv, x0, ts, args = (1.0, 9.8, 1.0))\n",
    "    plt.plot(ys[:,0], ys[:,1])\n",
    "\n",
    "def pendulum_video( q0, ts, output_file):\n",
    "    ts = np.linspace(0.0, 5.0, 101)\n",
    "    qs = odeint(simple_pendulum_deriv, q0, ts, args = (1.0, 9.8, 1.0))\n",
    "    pendulum_video_sequence(qs, output_file)\n",
    "\n",
    "def plot_pendulum(q, length = 1.0):\n",
    "    xs = [  0.0,  length * np.sin(q[0]) ]\n",
    "    ys = [  0.0, -length * np.cos(q[0]) ]\n",
    "    plt.plot( xs, ys, 'b-', linewidth = 3 )\n",
    "    plt.plot( xs[1], ys[1], 'ro' )\n",
    "    plt.gca().set_xlim([-1.2, 1.2])\n",
    "    plt.gca().set_ylim([-1.2, 1.2])\n",
    "    plt.gca().set_aspect('equal')\n",
    "\n",
    "def encode_video(input_pattern, output_filename):\n",
    "    # taken (almost) directly from the matplotlib website:\n",
    "    # http://matplotlib.sourceforge.net/faq/howto_faq.html#make-a-movie\n",
    "    os.system(\"mencoder 'mf://%s' -mf type=png:fps=10 -ovc lavc -lavcopts vcodec\")\n",
    "\n",
    "def pendulum_video_sequence(qs, output_filename):\n",
    "    for n, q in enumerate(qs):\n",
    "        print n, q\n",
    "        plt.clf()\n",
    "        plot_pendulum( q )\n",
    "        plt.savefig( '_tmp%03d.png' % n )\n",
    "    encode_video('_tmp*.png', output_filename)\n",
    "    for fname in glob.glob('_tmp*.png'):\n",
    "        os.remove(fname)\n",
    "\n",
    "def plot_interesting_orbits():\n",
    "    plt.clf()\n",
    "    # start with zero velocity at a number of differing angles\n",
    "    # scipy odeint does some pretty weird things if you have enough\n",
    "    # velocity to loop around\n",
    "    plot_orbit(np.array([np.pi * 0.25, 0.0]))\n",
    "    plot_orbit(np.array([np.pi * 0.5, 0.0]))\n",
    "    plot_orbit(np.array([np.pi * 0.9, 0.0]))\n",
    "    plot_orbit(np.array([np.pi * 0.999, 0.0]))\n",
    "    plt.title('homoclinic orbits for an undamped simpled pendulum')\n",
    "    plt.xlabel(r'$\\theta$')\n",
    "    plt.ylabel(r'$\\dot{\\theta}$')\n",
    "    plt.show()\n",
    "\n",
    "def interesting_videos():\n",
    "    ts = np.linspace(0.0, 50.0, 501)\n",
    "    pendulum_video( np.array([np.pi/2.0, 0.0]), ts, 'undamped_simple_pendulum01.mp4' )\n",
    "    pendulum_video( np.array([3*np.pi/4.0, 0.0]), ts, 'undamped_simple_pendulum02.mp4' )\n",
    "    \n",
    "\n"
   ]
  },
  {
   "cell_type": "code",
   "execution_count": null,
   "metadata": {},
   "outputs": [],
   "source": []
  }
 ],
 "metadata": {
  "kernelspec": {
   "display_name": "Python 2",
   "language": "python",
   "name": "python2"
  },
  "language_info": {
   "codemirror_mode": {
    "name": "ipython",
    "version": 2
   },
   "file_extension": ".py",
   "mimetype": "text/x-python",
   "name": "python",
   "nbconvert_exporter": "python",
   "pygments_lexer": "ipython2",
   "version": "2.7.12"
  }
 },
 "nbformat": 4,
 "nbformat_minor": 2
}
