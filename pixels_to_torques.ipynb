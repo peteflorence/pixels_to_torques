{
 "cells": [
  {
   "cell_type": "code",
   "execution_count": 189,
   "metadata": {},
   "outputs": [],
   "source": [
    "import torch\n"
   ]
  },
  {
   "cell_type": "markdown",
   "metadata": {},
   "source": [
    "## Render our simple world with no pendulum (it's empty)\n"
   ]
  },
  {
   "cell_type": "code",
   "execution_count": 190,
   "metadata": {},
   "outputs": [
    {
     "data": {
      "image/png": "[encoded data removed]",
      "text/plain": [
       "<matplotlib.figure.Figure at 0x7fbfc82f6290>"
      ]
     },
     "metadata": {},
     "output_type": "display_data"
    }
   ],
   "source": [
    "img = torch.zeros((100,100)).cuda()\n",
    "\n",
    "import matplotlib.pyplot as plt\n",
    "plt.imshow(img, cmap=plt.get_cmap('gray_r'))\n",
    "plt.show()"
   ]
  },
  {
   "cell_type": "code",
   "execution_count": 191,
   "metadata": {},
   "outputs": [
    {
     "data": {
      "image/png": "[encoded data removed]",
      "text/plain": [
       "<matplotlib.figure.Figure at 0x7fbfcf705510>"
      ]
     },
     "metadata": {},
     "output_type": "display_data"
    }
   ],
   "source": [
    "# Flip a pixel\n",
    "\n",
    "img[50,50] = 1.0\n",
    "plt.imshow(img, cmap=plt.get_cmap('gray_r'))\n",
    "plt.show()"
   ]
  },
  {
   "cell_type": "markdown",
   "metadata": {},
   "source": [
    "## Get a state of the pendulum\n",
    "\n",
    "<p align=\"center\">\n",
    "  <img src=\"simple_pend.svg\" width=\"250\"/>\n",
    "</p>"
   ]
  },
  {
   "cell_type": "code",
   "execution_count": 192,
   "metadata": {},
   "outputs": [
    {
     "name": "stdout",
     "output_type": "stream",
     "text": [
      "\n",
      " 0\n",
      " 0\n",
      "[torch.FloatTensor of size 2]\n",
      "\n"
     ]
    }
   ],
   "source": [
    "## parameters\n",
    "\n",
    "l = 10.0   # length in pixels\n",
    "g = 9.8    # gravity in m/s**2\n",
    "\n",
    "## state\n",
    "\n",
    "theta    = 0 # angle from down\n",
    "thetadot = 0 # \n",
    "\n",
    "state = torch.FloatTensor([theta, thetadot])\n",
    "print state"
   ]
  },
  {
   "cell_type": "markdown",
   "metadata": {},
   "source": [
    "## Convert state of pendulum to line segment"
   ]
  },
  {
   "cell_type": "code",
   "execution_count": 193,
   "metadata": {},
   "outputs": [
    {
     "name": "stdout",
     "output_type": "stream",
     "text": [
      "\n",
      " 0\n",
      " 0\n",
      "[torch.FloatTensor of size 2]\n",
      " in world\n",
      "\n",
      " 50\n",
      " 50\n",
      "[torch.FloatTensor of size 2]\n",
      " in image\n",
      "\n",
      " 10\n",
      "[torch.FloatTensor of size 1]\n",
      "\n",
      "\n",
      " 0\n",
      "[torch.FloatTensor of size 1]\n",
      "\n",
      "\n",
      " 10\n",
      "  0\n",
      "[torch.FloatTensor of size 2]\n",
      "\n",
      "\n",
      " 60\n",
      " 50\n",
      "[torch.FloatTensor of size 2]\n",
      "\n"
     ]
    }
   ],
   "source": [
    "base = torch.FloatTensor([0,0])  # in world coordinates\n",
    "\n",
    "def convert_world_to_img_coordinates(world_coordinates):\n",
    "    return world_coordinates + 50\n",
    "\n",
    "print base, \"in world\"\n",
    "base_in_img = convert_world_to_img_coordinates(base)\n",
    "print base_in_img, \"in image\"\n",
    "\n",
    "length_x = l * torch.cos(state[0:1])\n",
    "print length_x\n",
    "length_y = l * torch.sin(state[1:])\n",
    "print length_y\n",
    "\n",
    "length = torch.cat((length_x, length_y))\n",
    "\n",
    "end = base + length\n",
    "print end\n",
    "end_in_img = convert_world_to_img_coordinates(end)\n",
    "print end_in_img"
   ]
  },
  {
   "cell_type": "markdown",
   "metadata": {},
   "source": [
    "## Find all pixels close enough to line segment\n"
   ]
  },
  {
   "cell_type": "code",
   "execution_count": 251,
   "metadata": {},
   "outputs": [
    {
     "name": "stdout",
     "output_type": "stream",
     "text": [
      "[50 50] [60 50] [55 75]\n",
      "25.0\n",
      "[ 5 25]\n",
      "[0.19611614 0.98058068]\n",
      "[0.19611614 0.98058068] [1. 0.]\n",
      "0.19611613513818404\n",
      "1.373400766945016\n",
      "False\n",
      "[75 55]\n",
      "-750\n",
      "-499.99999999999983\n",
      "-1249.9999999999998\n",
      "1249.9999999999998\n"
     ]
    }
   ],
   "source": [
    "from numpy import arccos, array, dot, pi, cross\n",
    "from numpy.linalg import det, norm\n",
    "\n",
    "# from: https://gist.github.com/nim65s/5e9902cd67f094ce65b0\n",
    "def distance_numpy(A, B, P):\n",
    "    \"\"\" segment line AB, point P, where each one is an array([x, y]) \"\"\"\n",
    "    if all(A == P) or all(B == P):\n",
    "        return 0\n",
    "    if arccos(dot((P - A) / norm(P - A), (B - A) / norm(B - A))) > pi / 2:\n",
    "        return norm(P - A)\n",
    "    if arccos(dot((P - B) / norm(P - B), (A - B) / norm(A - B))) > pi / 2:\n",
    "        return norm(P - B)\n",
    "    return norm(cross(A-B, A-P))/norm(B-A)\n",
    "\n",
    "A = np.array([50,50])\n",
    "B = np.array([60,50])\n",
    "\n",
    "P = np.array([55,75])\n",
    "\n",
    "print A, B, P\n",
    "\n",
    "print distance_numpy(A, B, P)\n",
    "\n",
    "print P - A\n",
    "print (P - A) / norm(P - A)\n",
    "print (P - A) / norm(P - A), (B - A) / norm(B - A)\n",
    "print dot((P - A) / norm(P - A), (B - A) / norm(B - A))\n",
    "print arccos(dot((P - A) / norm(P - A), (B - A) / norm(B - A)))\n",
    "print arccos(dot((P - A) / norm(P - A), (B - A) / norm(B - A))) > pi / 2\n",
    "print P[::-1]\n",
    "print dot(A - B, P[::-1])\n",
    "print det([A, B])\n",
    "print dot(A - B, P[::-1]) + det([A, B])\n",
    "print abs(dot(A - B, P[::-1]) + det([A, B]))"
   ]
  },
  {
   "cell_type": "code",
   "execution_count": 252,
   "metadata": {},
   "outputs": [
    {
     "name": "stdout",
     "output_type": "stream",
     "text": [
      "25.0\n",
      "\n",
      "  5\n",
      " 25\n",
      "[torch.FloatTensor of size 2]\n",
      "\n",
      "\n",
      " 0.1961\n",
      " 0.9806\n",
      "[torch.FloatTensor of size 2]\n",
      "\n",
      "\n",
      " 0.1961\n",
      " 0.9806\n",
      "[torch.FloatTensor of size 2]\n",
      " \n",
      " 1\n",
      " 0\n",
      "[torch.FloatTensor of size 2]\n",
      "\n",
      "\n",
      " 0.1961\n",
      "[torch.FloatTensor of size 1]\n",
      "\n",
      "\n",
      " 1.3734\n",
      "[torch.FloatTensor of size 1]\n",
      "\n",
      "\n",
      " 0\n",
      "[torch.ByteTensor of size 1]\n",
      "\n",
      "\n",
      " 75\n",
      " 55\n",
      "[torch.FloatTensor of size 2]\n",
      "\n",
      "-750.0\n",
      "-500.0\n",
      "-1250.0\n"
     ]
    }
   ],
   "source": [
    "A = torch.from_numpy(A).type(torch.FloatTensor)\n",
    "B = torch.from_numpy(B).type(torch.FloatTensor)\n",
    "P = torch.from_numpy(P).type(torch.FloatTensor)\n",
    "\n",
    "def distance_pytorch(A, B, P):\n",
    "    if (A == B).all() or (B == P).all():\n",
    "        return 0\n",
    "    if (torch.acos(torch.FloatTensor([torch.dot((P - A) / (P - A).norm(), \n",
    "                                                (B - A) / (B - A).norm())])) > pi/2).all():\n",
    "        return (P - A).norm()\n",
    "    \n",
    "    if (torch.acos(torch.FloatTensor([torch.dot((P - B) / (P - B).norm(), \n",
    "                                                (A - B) / (A - B).norm())])) > pi/2).all():\n",
    "        return (P - B).norm()\n",
    "    \n",
    "    return abs(torch_det(A-B, A-P))/(B-A).norm()\n",
    "\n",
    "    \n",
    "print distance_pytorch(A, B, P)\n",
    "\n",
    "print P - A\n",
    "print (P - A) / (P-A).norm()\n",
    "print (P - A) / (P - A).norm(), (B - A) / (B - A).norm()\n",
    "print torch.FloatTensor([torch.dot((P - A) / (P - A).norm(), (B - A) / (B - A).norm())])\n",
    "print torch.acos(torch.FloatTensor([torch.dot((P - A) / (P - A).norm(), (B - A) / (B - A).norm())]))\n",
    "print torch.acos(torch.FloatTensor([torch.dot((P - A) / (P - A).norm(), (B - A) / (B - A).norm())])) > pi/2\n",
    "if (torch.acos(torch.FloatTensor([torch.dot((P - A) / (P - A).norm(), (B - A) / (B - A).norm())])) > pi/2).all():\n",
    "    print \"yes\"\n",
    "    \n",
    "def torch_flip(two_element_tensor):\n",
    "    return torch.FloatTensor([two_element_tensor[1],two_element_tensor[0]])\n",
    "    \n",
    "def torch_det(A,B):\n",
    "    return A[0]*B[1] - A[1]*B[0]\n",
    "    \n",
    "print torch_flip(P)\n",
    "print torch.dot(A-B, torch_flip(P))\n",
    "print torch_det(A,B)\n",
    "print torch.dot(A - B, torch_flip(P)) + torch_det(A, B)\n"
   ]
  },
  {
   "cell_type": "code",
   "execution_count": 253,
   "metadata": {},
   "outputs": [
    {
     "name": "stdout",
     "output_type": "stream",
     "text": [
      "\n",
      " 50\n",
      " 50\n",
      "[torch.FloatTensor of size 2]\n",
      "\n",
      "\n",
      " 60\n",
      " 50\n",
      "[torch.FloatTensor of size 2]\n",
      "\n"
     ]
    },
    {
     "data": {
      "image/png": "[encoded data removed]",
      "text/plain": [
       "<matplotlib.figure.Figure at 0x7fbfc82fedd0>"
      ]
     },
     "metadata": {},
     "output_type": "display_data"
    }
   ],
   "source": [
    "print base_in_img\n",
    "print end_in_img\n",
    "\n",
    "for i, row in enumerate(img):\n",
    "    for j, val in enumerate(row):\n",
    "        this_img_coord = torch.FloatTensor([i,j])\n",
    "        img[i,j] = distance_pytorch(base_in_img, end_in_img, this_img_coord)\n",
    "\n",
    "plt.imshow(img, cmap=plt.get_cmap('gray_r'))\n",
    "plt.show()"
   ]
  },
  {
   "cell_type": "code",
   "execution_count": 254,
   "metadata": {},
   "outputs": [
    {
     "data": {
      "image/png": "[encoded data removed]",
      "text/plain": [
       "<matplotlib.figure.Figure at 0x7fbfc37e6410>"
      ]
     },
     "metadata": {},
     "output_type": "display_data"
    }
   ],
   "source": [
    "for i, row in enumerate(img):\n",
    "    for j, val in enumerate(row):\n",
    "        this_img_coord = torch.FloatTensor([i,j])\n",
    "        img[i,j] = float(distance_numpy(base_in_img.numpy(), end_in_img.numpy(), this_img_coord.numpy()))\n",
    "\n",
    "plt.imshow(img, cmap=plt.get_cmap('gray_r'))\n",
    "plt.show()"
   ]
  },
  {
   "cell_type": "code",
   "execution_count": 255,
   "metadata": {},
   "outputs": [
    {
     "data": {
      "image/png": "[encoded data removed]",
      "text/plain": [
       "<matplotlib.figure.Figure at 0x7fbfc35c0750>"
      ]
     },
     "metadata": {},
     "output_type": "display_data"
    }
   ],
   "source": [
    "for i, row in enumerate(img):\n",
    "    for j, val in enumerate(row):\n",
    "        img[i,j] = i + j\n",
    "\n",
    "plt.imshow(img, cmap=plt.get_cmap('gray_r'))\n",
    "plt.show()\n"
   ]
  },
  {
   "cell_type": "code",
   "execution_count": null,
   "metadata": {},
   "outputs": [],
   "source": []
  }
 ],
 "metadata": {
  "kernelspec": {
   "display_name": "Python 2",
   "language": "python",
   "name": "python2"
  },
  "language_info": {
   "codemirror_mode": {
    "name": "ipython",
    "version": 2
   },
   "file_extension": ".py",
   "mimetype": "text/x-python",
   "name": "python",
   "nbconvert_exporter": "python",
   "pygments_lexer": "ipython2",
   "version": "2.7.12"
  }
 },
 "nbformat": 4,
 "nbformat_minor": 2
}
